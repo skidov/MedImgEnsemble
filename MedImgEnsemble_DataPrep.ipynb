{
  "nbformat": 4,
  "nbformat_minor": 0,
  "metadata": {
    "colab": {
      "provenance": [],
      "gpuType": "T4"
    },
    "kernelspec": {
      "name": "python3",
      "display_name": "Python 3"
    },
    "language_info": {
      "name": "python"
    },
    "accelerator": "GPU"
  },
  "cells": [
    {
      "cell_type": "markdown",
      "source": [
        "# Install and Import"
      ],
      "metadata": {
        "id": "iYsFEab5zYvO"
      }
    },
    {
      "cell_type": "code",
      "source": [
        "import pandas as pd\n",
        "import numpy as np\n",
        "import matplotlib.pyplot as plt\n",
        "import seaborn as sns"
      ],
      "metadata": {
        "id": "hGk_M-kKzHQA"
      },
      "execution_count": 3,
      "outputs": []
    },
    {
      "cell_type": "markdown",
      "source": [
        "# Save Requirements.txt"
      ],
      "metadata": {
        "id": "F2e1NbChzNbe"
      }
    },
    {
      "cell_type": "code",
      "execution_count": 1,
      "metadata": {
        "id": "0f6EAHVTyg6X"
      },
      "outputs": [],
      "source": [
        "!pip freeze > requirements.txt"
      ]
    },
    {
      "cell_type": "markdown",
      "source": [
        "# Data acquisition\n",
        "Az adathalmaz elérhető a kövezkező útvonalon: https://humanheart-project.creatis.insa-lyon.fr/database/#collection/637218c173e9f0047faa00fb\n",
        "\n",
        "Colab-ban futtatva az adathalmaz letőlthező az alábbi kóddal, a mérete miatt a letöltés eltarhat hosszabb ideig. Az adathalmaz mérete: 2.284 GB."
      ],
      "metadata": {
        "id": "TJdLfuv6zfwY"
      }
    },
    {
      "cell_type": "code",
      "source": [
        "!wget \"https://humanheart-project.creatis.insa-lyon.fr/database/api/v1/collection/637218c173e9f0047faa00fb/download\"\n",
        "!unzip -q download -d dataset"
      ],
      "metadata": {
        "colab": {
          "base_uri": "https://localhost:8080/"
        },
        "id": "U0i68Wu2zkHH",
        "outputId": "d68c05d7-02f1-485f-8b68-70b2b035b7ba"
      },
      "execution_count": 2,
      "outputs": [
        {
          "output_type": "stream",
          "name": "stdout",
          "text": [
            "--2024-10-13 21:05:09--  https://humanheart-project.creatis.insa-lyon.fr/database/api/v1/collection/637218c173e9f0047faa00fb/download\n",
            "Resolving humanheart-project.creatis.insa-lyon.fr (humanheart-project.creatis.insa-lyon.fr)... 195.220.108.28\n",
            "Connecting to humanheart-project.creatis.insa-lyon.fr (humanheart-project.creatis.insa-lyon.fr)|195.220.108.28|:443... connected.\n",
            "HTTP request sent, awaiting response... 200 OK\n",
            "Length: unspecified [application/zip]\n",
            "Saving to: ‘download’\n",
            "\n",
            "download                [                <=> ]   2.28G  13.2MB/s    in 2m 58s  \n",
            "\n",
            "2024-10-13 21:08:08 (13.1 MB/s) - ‘download’ saved [2452590457]\n",
            "\n"
          ]
        }
      ]
    },
    {
      "cell_type": "markdown",
      "source": [
        "# Data preparation"
      ],
      "metadata": {
        "id": "VYdUgrk_zkX6"
      }
    },
    {
      "cell_type": "code",
      "source": [],
      "metadata": {
        "id": "bLvdSGapzL1w"
      },
      "execution_count": null,
      "outputs": []
    }
  ]
}